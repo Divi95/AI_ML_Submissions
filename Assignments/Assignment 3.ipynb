{
 "cells": [
  {
   "cell_type": "markdown",
   "metadata": {},
   "source": [
    "1.Print all strings that can be generated from a list of letters.\n",
    "\n",
    "Input: abc\n",
    "Output:\n",
    "abc\n",
    "acb\n",
    "bac\n",
    "bca\n",
    "cab\n",
    "cba"
   ]
  },
  {
   "cell_type": "code",
   "execution_count": 9,
   "metadata": {},
   "outputs": [],
   "source": [
    "def generate_permutations(s):\n",
    "    def backtrack(path, used):\n",
    "        if len(path) == len(s):\n",
    "            results.append(''.join(path))\n",
    "            return\n",
    "        for i in range(len(s)):\n",
    "            if used[i]:\n",
    "                continue\n",
    "            if i > 0 and s[i] == s[i - 1] and not used[i - 1]:\n",
    "                continue  # skip duplicates\n",
    "            used[i] = True\n",
    "            path.append(s[i])\n",
    "            backtrack(path, used)\n",
    "            path.pop()\n",
    "            used[i] = False\n",
    "\n",
    "    s = sorted(s)  # sort to group duplicates together\n",
    "    results = []\n",
    "    used = [False] * len(s)\n",
    "    backtrack([], used)\n",
    "    return results"
   ]
  },
  {
   "cell_type": "code",
   "execution_count": 10,
   "metadata": {},
   "outputs": [
    {
     "data": {
      "text/plain": [
       "['abc', 'acb', 'bac', 'bca', 'cab', 'cba']"
      ]
     },
     "execution_count": 10,
     "metadata": {},
     "output_type": "execute_result"
    }
   ],
   "source": [
    "generate_permutations('abc')"
   ]
  },
  {
   "cell_type": "code",
   "execution_count": 13,
   "metadata": {},
   "outputs": [
    {
     "data": {
      "text/plain": [
       "['ccv', 'cvc', 'vcc']"
      ]
     },
     "execution_count": 13,
     "metadata": {},
     "output_type": "execute_result"
    }
   ],
   "source": [
    "generate_permutations('vcc') # repeated letter"
   ]
  },
  {
   "cell_type": "markdown",
   "metadata": {},
   "source": [
    "\n",
    "2. Code Huber Loss\n"
   ]
  },
  {
   "cell_type": "code",
   "execution_count": 15,
   "metadata": {},
   "outputs": [],
   "source": [
    "def huber_loss(y_true, y_pred, delta=1.0):\n",
    "    loss = 0.0\n",
    "    for yt, yp in zip(y_true, y_pred):\n",
    "        error = yt - yp\n",
    "        if abs(error) <= delta:\n",
    "            loss += 0.5 * error ** 2\n",
    "        else:\n",
    "            loss += delta * (abs(error) - 0.5 * delta)\n",
    "    return loss / len(y_true)"
   ]
  },
  {
   "cell_type": "code",
   "execution_count": 16,
   "metadata": {},
   "outputs": [
    {
     "name": "stdout",
     "output_type": "stream",
     "text": [
      "Huber Loss: 0.04499999999999999\n"
     ]
    }
   ],
   "source": [
    "# Example usage\n",
    "y_true = [1, 2, 3, 4]\n",
    "y_pred = [1.1, 2.5, 2.7, 3.9]\n",
    "\n",
    "print(\"Huber Loss:\", huber_loss(y_true, y_pred, delta=1.0))"
   ]
  },
  {
   "cell_type": "markdown",
   "metadata": {},
   "source": [
    "3. Code for BLEU Score"
   ]
  },
  {
   "cell_type": "code",
   "execution_count": 21,
   "metadata": {},
   "outputs": [
    {
     "name": "stdout",
     "output_type": "stream",
     "text": [
      "Simple BLEU Score: 0.83\n"
     ]
    }
   ],
   "source": [
    "def simple_bleu(reference, candidate):\n",
    "    reference_words = reference.split()\n",
    "    candidate_words = candidate.split()\n",
    "\n",
    "    matches = 0\n",
    "    for word in candidate_words:\n",
    "        if word in reference_words:\n",
    "            matches += 1\n",
    "\n",
    "    if candidate_words:\n",
    "        return matches / len(candidate_words)\n",
    "    else:\n",
    "        return 0\n",
    "\n",
    "# Example usage\n",
    "reference = \"the cat is on the mat\"\n",
    "candidate = \"the cat sat on the mat\"\n",
    "\n",
    "score = simple_bleu(reference, candidate)\n",
    "print(f\"Simple BLEU Score: {score:.2f}\")\n"
   ]
  },
  {
   "cell_type": "markdown",
   "metadata": {},
   "source": [
    "4. Design for implementing multiplication without using the multiplication operator"
   ]
  },
  {
   "cell_type": "code",
   "execution_count": 22,
   "metadata": {},
   "outputs": [],
   "source": [
    "def multiply(a, b):\n",
    "    # Handle negative values\n",
    "    negative = False\n",
    "    if a < 0:\n",
    "        a = -a\n",
    "        negative = not negative\n",
    "    if b < 0:\n",
    "        b = -b\n",
    "        negative = not negative\n",
    "\n",
    "    result = 0\n",
    "    for _ in range(b):\n",
    "        result += a\n",
    "\n",
    "    return -result if negative else result"
   ]
  },
  {
   "cell_type": "code",
   "execution_count": 23,
   "metadata": {},
   "outputs": [
    {
     "name": "stdout",
     "output_type": "stream",
     "text": [
      "15\n",
      "-24\n",
      "6\n"
     ]
    }
   ],
   "source": [
    "print(multiply(3, 5))\n",
    "print(multiply(-4, 6))\n",
    "print(multiply(-3, -2))"
   ]
  },
  {
   "cell_type": "code",
   "execution_count": null,
   "metadata": {},
   "outputs": [],
   "source": []
  }
 ],
 "metadata": {
  "kernelspec": {
   "display_name": "Python 3",
   "language": "python",
   "name": "python3"
  },
  "language_info": {
   "codemirror_mode": {
    "name": "ipython",
    "version": 3
   },
   "file_extension": ".py",
   "mimetype": "text/x-python",
   "name": "python",
   "nbconvert_exporter": "python",
   "pygments_lexer": "ipython3",
   "version": "3.6.8"
  },
  "toc": {
   "base_numbering": 1,
   "nav_menu": {},
   "number_sections": true,
   "sideBar": true,
   "skip_h1_title": false,
   "title_cell": "Table of Contents",
   "title_sidebar": "Contents",
   "toc_cell": false,
   "toc_position": {},
   "toc_section_display": true,
   "toc_window_display": false
  }
 },
 "nbformat": 4,
 "nbformat_minor": 2
}
