{
 "cells": [
  {
   "cell_type": "markdown",
   "metadata": {},
   "source": [
    "x = 1, y = 5\n",
    "\n",
    "x = 4, y = 8\n",
    "\n",
    "x = 19, y = ?\n",
    "\n",
    "x = 2.3, y = ?"
   ]
  },
  {
   "cell_type": "code",
   "execution_count": 1,
   "metadata": {},
   "outputs": [],
   "source": [
    "# line quation => y = mx+ c\n",
    "class stLine2pt:\n",
    "    def __init__(self):\n",
    "        self.m = 0\n",
    "        self.c = 0\n",
    "    def fit(self, X, y):\n",
    "        x1, x2 = X\n",
    "        y1, y2 = y\n",
    "        \n",
    "        self.m = (y2 - y1) / (x2 - x1)\n",
    "        self.c = (x2*y1 - y2*x1) / (x2 -x1)\n",
    "    def predict(self, X):\n",
    "        return [(self.m * x) + self.c for x in X]"
   ]
  },
  {
   "cell_type": "code",
   "execution_count": 2,
   "metadata": {},
   "outputs": [],
   "source": [
    "model = stLine2pt()"
   ]
  },
  {
   "cell_type": "code",
   "execution_count": 3,
   "metadata": {},
   "outputs": [],
   "source": [
    "model.fit([1,4], [5,8])"
   ]
  },
  {
   "cell_type": "code",
   "execution_count": 4,
   "metadata": {},
   "outputs": [
    {
     "data": {
      "text/plain": [
       "[23.0, 6.3]"
      ]
     },
     "execution_count": 4,
     "metadata": {},
     "output_type": "execute_result"
    }
   ],
   "source": [
    "model.predict([19,2.3])"
   ]
  },
  {
   "cell_type": "markdown",
   "metadata": {},
   "source": [
    "Q2: Repeat the above process for 3D\n",
    "\n",
    "x1, x2 -> y\n",
    "\n",
    "(1, 2, 4)\n",
    "\n",
    "(2, 3, 8)\n",
    "\n",
    "(5, 7, 19)\n",
    "\n",
    "(4, 5, ??)"
   ]
  },
  {
   "cell_type": "code",
   "execution_count": 10,
   "metadata": {},
   "outputs": [],
   "source": [
    "import numpy as np\n",
    "\n",
    "def cramer_3d(data, target_x1, target_x2):\n",
    "    A = np.array([[x1, x2, 1] for x1, x2, _ in data])\n",
    "    Y = np.array([y for _, _, y in data])\n",
    "\n",
    "    det_A = np.linalg.det(A)\n",
    "    if det_A == 0:\n",
    "        raise ValueError(\"The system has no unique solution\")\n",
    "\n",
    "    # Replace each column with Y to find determinants for a, b, c\n",
    "    A1 = A.copy(); A1[:,0] = Y\n",
    "    A2 = A.copy(); A2[:,1] = Y\n",
    "    A3 = A.copy(); A3[:,2] = Y\n",
    "\n",
    "    a = np.linalg.det(A1) / det_A\n",
    "    b = np.linalg.det(A2) / det_A\n",
    "    c = np.linalg.det(A3) / det_A\n",
    "\n",
    "    # Predict y for given (x1, x2)\n",
    "    y_pred = a * target_x1 + b * target_x2 + c\n",
    "    return y_pred, (a, b, c)"
   ]
  },
  {
   "cell_type": "code",
   "execution_count": 11,
   "metadata": {},
   "outputs": [
    {
     "name": "stdout",
     "output_type": "stream",
     "text": [
      "Predicted y for (4, 5): 15.999999999999995\n",
      "Coefficients: a=5.00, b=-1.00, c=1.00\n"
     ]
    }
   ],
   "source": [
    "data = [\n",
    "    (1, 2, 4),\n",
    "    (2, 3, 8),\n",
    "    (5, 7, 19)\n",
    "]\n",
    "\n",
    "y_pred, coeffs = cramer_3d(data, 4, 5)\n",
    "print(f\"Predicted y for (4, 5): {y_pred}\")\n",
    "print(f\"Coefficients: a={coeffs[0]:.2f}, b={coeffs[1]:.2f}, c={coeffs[2]:.2f}\")"
   ]
  },
  {
   "cell_type": "markdown",
   "metadata": {},
   "source": [
    "How would you do it for n dimensions?"
   ]
  },
  {
   "cell_type": "code",
   "execution_count": 18,
   "metadata": {},
   "outputs": [],
   "source": [
    "import numpy as np\n",
    "\n",
    "def fit_linear_model(data, target_x):\n",
    "    X = np.array([[*row[:-1], 1] for row in data])  # Add bias (intercept)\n",
    "    y = np.array([row[-1] for row in data])\n",
    "\n",
    "    # Least squares solution\n",
    "    coeffs = np.linalg.inv(X.T @ X) @ X.T @ y\n",
    "\n",
    "    # Predict y for new input\n",
    "    target = np.array([*target_x, 1])\n",
    "    y_pred = target @ coeffs\n",
    "    return y_pred, coeffs\n"
   ]
  },
  {
   "cell_type": "code",
   "execution_count": 21,
   "metadata": {},
   "outputs": [
    {
     "name": "stdout",
     "output_type": "stream",
     "text": [
      "Predicted y for [4, 5]: 15.071428571428822\n",
      "Coefficients: [3.35714286 0.28571429]  Intercept: 0.2142857142857153\n"
     ]
    }
   ],
   "source": [
    "data = [\n",
    "    (1, 2, 4),\n",
    "    (2, 3, 8),\n",
    "    (5, 7, 19),\n",
    "    (4, 5, 15)  # You can add more data here!\n",
    "]\n",
    "\n",
    "target = [4, 5]\n",
    "y_pred, coeffs = fit_linear_model(data, target)\n",
    "\n",
    "print(f\"Predicted y for {target}: {y_pred}\")\n",
    "print(f\"Coefficients: {coeffs[:-1]}  Intercept: {coeffs[-1]}\")\n",
    "\n"
   ]
  },
  {
   "cell_type": "code",
   "execution_count": null,
   "metadata": {},
   "outputs": [],
   "source": []
  }
 ],
 "metadata": {
  "kernelspec": {
   "display_name": "Python 3",
   "language": "python",
   "name": "python3"
  },
  "language_info": {
   "codemirror_mode": {
    "name": "ipython",
    "version": 3
   },
   "file_extension": ".py",
   "mimetype": "text/x-python",
   "name": "python",
   "nbconvert_exporter": "python",
   "pygments_lexer": "ipython3",
   "version": "3.6.8"
  },
  "toc": {
   "base_numbering": 1,
   "nav_menu": {},
   "number_sections": true,
   "sideBar": true,
   "skip_h1_title": false,
   "title_cell": "Table of Contents",
   "title_sidebar": "Contents",
   "toc_cell": false,
   "toc_position": {},
   "toc_section_display": true,
   "toc_window_display": false
  }
 },
 "nbformat": 4,
 "nbformat_minor": 2
}
