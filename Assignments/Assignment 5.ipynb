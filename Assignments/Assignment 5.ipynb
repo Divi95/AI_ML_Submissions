{
 "cells": [
  {
   "cell_type": "markdown",
   "metadata": {},
   "source": [
    "### Given two vectors (arrays or list of numbers)\n",
    "     \n",
    "     return the difference of the two vectors\n",
    "     diff([1,2,3], [2,3,4]) => [-1, -1, -1]"
   ]
  },
  {
   "cell_type": "code",
   "execution_count": 8,
   "metadata": {},
   "outputs": [
    {
     "name": "stdout",
     "output_type": "stream",
     "text": [
      "[-1, -1, -1]\n"
     ]
    }
   ],
   "source": [
    "d1 = [1, 2, 3]\n",
    "d2 = [2, 3, 4]\n",
    "diff = [x1 - x2 for (x1, x2) in zip(d1, d2)]\n",
    "print(diff)"
   ]
  },
  {
   "cell_type": "markdown",
   "metadata": {},
   "source": [
    "### Given two vectors (arrays or list of numbers). Find absolute distance between them. L1 Distance.\n",
    "\n",
    "    abs_distance([1,2,3], [2, 3, 4]) -> 3\n",
    "    abs_distance([5,4,1], [2, 3, 4]) -> 3+1+3 = 7"
   ]
  },
  {
   "cell_type": "code",
   "execution_count": 18,
   "metadata": {},
   "outputs": [
    {
     "name": "stdout",
     "output_type": "stream",
     "text": [
      "7\n"
     ]
    }
   ],
   "source": [
    "d1 = [5, 4, 1]\n",
    "d2 = [2, 3, 4]\n",
    "diff = [x1 - x2 for (x1, x2) in zip(d1, d2)]\n",
    "abs_dist = 0\n",
    "\n",
    "for d in diff:\n",
    "    abs_dist += abs(d)\n",
    "\n",
    "print(abs_dist)"
   ]
  },
  {
   "cell_type": "markdown",
   "metadata": {},
   "source": [
    "### Given two 2D vectors representing two points, find the distance between two points.\n",
    "\n",
    "    distance([1,2], [3,5]) -> sqrt((3 - 1)*2 + (5-2)*2)\n",
    "        sqrt(13) = 3.605551275463989"
   ]
  },
  {
   "cell_type": "code",
   "execution_count": 2,
   "metadata": {},
   "outputs": [
    {
     "name": "stdout",
     "output_type": "stream",
     "text": [
      "The distance between [1, 2] and [3, 5] is: 3.605551275463989\n"
     ]
    }
   ],
   "source": [
    "import math\n",
    "\n",
    "def distance(point1, point2):\n",
    "    x1, y1 = point1\n",
    "    x2, y2 = point2\n",
    "    delta_x = x2 - x1\n",
    "    delta_y = y2 - y1\n",
    "    return math.sqrt(delta_x**2 + delta_y**2)\n",
    "\n",
    "# Example usage:\n",
    "point_a = [1, 2]\n",
    "point_b = [3, 5]\n",
    "dist = distance(point_a, point_b)\n",
    "print(f\"The distance between {point_a} and {point_b} is: {dist}\")"
   ]
  },
  {
   "cell_type": "markdown",
   "metadata": {},
   "source": [
    "### Given two 3D vectors representing two points, find the distance between two points.\n",
    "    distance3d([1, 2, 3], [2,3,4] ) -> math.sqrt(3)"
   ]
  },
  {
   "cell_type": "code",
   "execution_count": 3,
   "metadata": {},
   "outputs": [
    {
     "name": "stdout",
     "output_type": "stream",
     "text": [
      "The distance between [1, 2, 3] and [2, 3, 4] is: 1.7320508075688772\n"
     ]
    }
   ],
   "source": [
    "import math\n",
    "\n",
    "def distance3d(point1, point2):\n",
    "    x1, y1, z1 = point1\n",
    "    x2, y2, z2 = point2\n",
    "    delta_x = x2 - x1\n",
    "    delta_y = y2 - y1\n",
    "    delta_z = z2 - z1\n",
    "    return math.sqrt(delta_x**2 + delta_y**2 + delta_z**2)\n",
    "\n",
    "# Example usage:\n",
    "point_a = [1, 2, 3]\n",
    "point_b = [2, 3, 4]\n",
    "dist = distance3d(point_a, point_b)\n",
    "print(f\"The distance between {point_a} and {point_b} is: {dist}\")"
   ]
  },
  {
   "cell_type": "markdown",
   "metadata": {},
   "source": [
    "### Generalize problem Q4 for n dimension."
   ]
  },
  {
   "cell_type": "code",
   "execution_count": 8,
   "metadata": {},
   "outputs": [],
   "source": [
    "import math\n",
    "\n",
    "def distance_nd(point1, point2):\n",
    "    if len(point1) != len(point2):\n",
    "        raise ValueError(\"Input points must have the same number of dimensions.\")\n",
    "    if not point1 or not point2:\n",
    "        raise ValueError(\"Input points cannot be empty.\")\n",
    "\n",
    "    squared_diff_sum = 0\n",
    "    for i in range(len(point1)):\n",
    "        squared_diff_sum += (point2[i] - point1[i]) ** 2\n",
    "\n",
    "    return math.sqrt(squared_diff_sum)"
   ]
  },
  {
   "cell_type": "code",
   "execution_count": 9,
   "metadata": {},
   "outputs": [
    {
     "name": "stdout",
     "output_type": "stream",
     "text": [
      "The distance between [1, 2] and [3, 5] is: 3.605551275463989\n"
     ]
    }
   ],
   "source": [
    "point_a_2d = [1, 2]\n",
    "point_b_2d = [3, 5]\n",
    "dist_2d = distance_nd(point_a_2d, point_b_2d)\n",
    "print(f\"The distance between {point_a_2d} and {point_b_2d} is: {dist_2d}\")"
   ]
  },
  {
   "cell_type": "code",
   "execution_count": 10,
   "metadata": {},
   "outputs": [
    {
     "name": "stdout",
     "output_type": "stream",
     "text": [
      "The distance between [1, 2, 3] and [2, 3, 4] is: 1.7320508075688772\n"
     ]
    }
   ],
   "source": [
    "point_c_3d = [1, 2, 3]\n",
    "point_d_3d = [2, 3, 4]\n",
    "dist_3d = distance_nd(point_c_3d, point_d_3d)\n",
    "print(f\"The distance between {point_c_3d} and {point_d_3d} is: {dist_3d}\")"
   ]
  },
  {
   "cell_type": "code",
   "execution_count": 11,
   "metadata": {},
   "outputs": [
    {
     "name": "stdout",
     "output_type": "stream",
     "text": [
      "The distance between [1, 2, 3, 4] and [5, 6, 7, 8] is: 8.0\n"
     ]
    }
   ],
   "source": [
    "point_e_4d = [1, 2, 3, 4]\n",
    "point_f_4d = [5, 6, 7, 8]\n",
    "dist_4d = distance_nd(point_e_4d, point_f_4d)\n",
    "print(f\"The distance between {point_e_4d} and {point_f_4d} is: {dist_4d}\")"
   ]
  },
  {
   "cell_type": "code",
   "execution_count": null,
   "metadata": {},
   "outputs": [],
   "source": []
  }
 ],
 "metadata": {
  "kernelspec": {
   "display_name": "Python 3",
   "language": "python",
   "name": "python3"
  },
  "language_info": {
   "codemirror_mode": {
    "name": "ipython",
    "version": 3
   },
   "file_extension": ".py",
   "mimetype": "text/x-python",
   "name": "python",
   "nbconvert_exporter": "python",
   "pygments_lexer": "ipython3",
   "version": "3.6.8"
  },
  "toc": {
   "base_numbering": 1,
   "nav_menu": {},
   "number_sections": true,
   "sideBar": true,
   "skip_h1_title": false,
   "title_cell": "Table of Contents",
   "title_sidebar": "Contents",
   "toc_cell": false,
   "toc_position": {},
   "toc_section_display": true,
   "toc_window_display": false
  }
 },
 "nbformat": 4,
 "nbformat_minor": 2
}
