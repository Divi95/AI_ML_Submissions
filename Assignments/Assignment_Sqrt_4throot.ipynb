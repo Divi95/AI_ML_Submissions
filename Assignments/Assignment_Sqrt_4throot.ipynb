{
 "cells": [
  {
   "cell_type": "markdown",
   "metadata": {},
   "source": [
    "# Code for square root\n",
    " - complexity - O(1) --> As the value of depth is constant so it will take constant time, irrespective of the value of number"
   ]
  },
  {
   "cell_type": "code",
   "execution_count": 5,
   "metadata": {},
   "outputs": [],
   "source": [
    "def square_root(number):\n",
    "    if number < 0:\n",
    "        raise ValueError(\"Cannot compute the square root of a negative number.\")\n",
    "    if number == 0:\n",
    "        return 0\n",
    "\n",
    "    depth = 20\n",
    "    left = 0\n",
    "    right = number\n",
    "\n",
    "    for _ in range(depth):\n",
    "        print(f\"left: {left}, right:{right}\")\n",
    "        guess = (left + right) / 2\n",
    "        print(f\"guess: {guess}\")\n",
    "        print(f\"square: {guess * guess}\")\n",
    "        if (guess * guess > number):\n",
    "            right = guess\n",
    "        else:\n",
    "            left = guess\n",
    "    return guess"
   ]
  },
  {
   "cell_type": "code",
   "execution_count": 6,
   "metadata": {},
   "outputs": [
    {
     "name": "stdout",
     "output_type": "stream",
     "text": [
      "left: 0, right:7\n",
      "guess: 3.5\n",
      "square: 12.25\n",
      "left: 0, right:3.5\n",
      "guess: 1.75\n",
      "square: 3.0625\n",
      "left: 1.75, right:3.5\n",
      "guess: 2.625\n",
      "square: 6.890625\n",
      "left: 2.625, right:3.5\n",
      "guess: 3.0625\n",
      "square: 9.37890625\n",
      "left: 2.625, right:3.0625\n",
      "guess: 2.84375\n",
      "square: 8.0869140625\n",
      "left: 2.625, right:2.84375\n",
      "guess: 2.734375\n",
      "square: 7.476806640625\n",
      "left: 2.625, right:2.734375\n",
      "guess: 2.6796875\n",
      "square: 7.18072509765625\n",
      "left: 2.625, right:2.6796875\n",
      "guess: 2.65234375\n",
      "square: 7.0349273681640625\n",
      "left: 2.625, right:2.65234375\n",
      "guess: 2.638671875\n",
      "square: 6.962589263916016\n",
      "left: 2.638671875, right:2.65234375\n",
      "guess: 2.6455078125\n",
      "square: 6.998711585998535\n",
      "left: 2.6455078125, right:2.65234375\n",
      "guess: 2.64892578125\n",
      "square: 7.016807794570923\n",
      "left: 2.6455078125, right:2.64892578125\n",
      "guess: 2.647216796875\n",
      "square: 7.007756769657135\n",
      "left: 2.6455078125, right:2.647216796875\n",
      "guess: 2.6463623046875\n",
      "square: 7.003233447670937\n",
      "left: 2.6455078125, right:2.6463623046875\n",
      "guess: 2.64593505859375\n",
      "square: 7.000972334295511\n",
      "left: 2.6455078125, right:2.64593505859375\n",
      "guess: 2.645721435546875\n",
      "square: 6.999841914512217\n",
      "left: 2.645721435546875, right:2.64593505859375\n",
      "guess: 2.6458282470703125\n",
      "square: 7.000407112995163\n",
      "left: 2.645721435546875, right:2.6458282470703125\n",
      "guess: 2.6457748413085938\n",
      "square: 7.000124510901514\n",
      "left: 2.645721435546875, right:2.6457748413085938\n",
      "guess: 2.6457481384277344\n",
      "square: 6.999983211993822\n",
      "left: 2.6457481384277344, right:2.6457748413085938\n",
      "guess: 2.645761489868164\n",
      "square: 7.000053861269407\n",
      "left: 2.6457481384277344, right:2.645761489868164\n",
      "guess: 2.645754814147949\n",
      "square: 7.000018536587049\n"
     ]
    },
    {
     "data": {
      "text/plain": [
       "2.645754814147949"
      ]
     },
     "execution_count": 6,
     "metadata": {},
     "output_type": "execute_result"
    }
   ],
   "source": [
    "square_root(7)"
   ]
  },
  {
   "cell_type": "markdown",
   "metadata": {},
   "source": [
    "# Code for 4th root\n",
    " - complexity - O(1) --> As the value of depth is constant so it will take constant time, irrespective of the value of number"
   ]
  },
  {
   "cell_type": "code",
   "execution_count": 32,
   "metadata": {},
   "outputs": [],
   "source": [
    "def fourth_root(number):\n",
    "    if number < 0:\n",
    "        raise ValueError(\"Cannot compute the square root of a negative number.\")\n",
    "    if number == 0:\n",
    "        return 0\n",
    "\n",
    "    depth = 20\n",
    "    left = 0\n",
    "    right = number\n",
    "\n",
    "    for _ in range(depth):\n",
    "        print(f\"left: {left}, right:{right}\")\n",
    "        guess = (left + right) / 2\n",
    "        print(f\"guess: {guess}\")\n",
    "        print(f\"square: {guess * guess}\")\n",
    "        if (guess ** 4 > number):\n",
    "            right = guess\n",
    "        else:\n",
    "            left = guess\n",
    "    return guess"
   ]
  },
  {
   "cell_type": "code",
   "execution_count": 35,
   "metadata": {},
   "outputs": [
    {
     "name": "stdout",
     "output_type": "stream",
     "text": [
      "left: 0, right:625\n",
      "guess: 312.5\n",
      "square: 97656.25\n",
      "left: 0, right:312.5\n",
      "guess: 156.25\n",
      "square: 24414.0625\n",
      "left: 0, right:156.25\n",
      "guess: 78.125\n",
      "square: 6103.515625\n",
      "left: 0, right:78.125\n",
      "guess: 39.0625\n",
      "square: 1525.87890625\n",
      "left: 0, right:39.0625\n",
      "guess: 19.53125\n",
      "square: 381.4697265625\n",
      "left: 0, right:19.53125\n",
      "guess: 9.765625\n",
      "square: 95.367431640625\n",
      "left: 0, right:9.765625\n",
      "guess: 4.8828125\n",
      "square: 23.84185791015625\n",
      "left: 4.8828125, right:9.765625\n",
      "guess: 7.32421875\n",
      "square: 53.64418029785156\n",
      "left: 4.8828125, right:7.32421875\n",
      "guess: 6.103515625\n",
      "square: 37.25290298461914\n",
      "left: 4.8828125, right:6.103515625\n",
      "guess: 5.4931640625\n",
      "square: 30.174851417541504\n",
      "left: 4.8828125, right:5.4931640625\n",
      "guess: 5.18798828125\n",
      "square: 26.91522240638733\n",
      "left: 4.8828125, right:5.18798828125\n",
      "guess: 5.035400390625\n",
      "square: 25.355257093906403\n",
      "left: 4.8828125, right:5.035400390625\n",
      "guess: 4.9591064453125\n",
      "square: 24.59273673593998\n",
      "left: 4.9591064453125, right:5.035400390625\n",
      "guess: 4.99725341796875\n",
      "square: 24.972541723400354\n",
      "left: 4.99725341796875, right:5.035400390625\n",
      "guess: 5.016326904296875\n",
      "square: 25.16353561077267\n",
      "left: 4.99725341796875, right:5.016326904296875\n",
      "guess: 5.0067901611328125\n",
      "square: 25.067947717616335\n",
      "left: 4.99725341796875, right:5.0067901611328125\n",
      "guess: 5.002021789550781\n",
      "square: 25.0202219831408\n",
      "left: 4.99725341796875, right:5.002021789550781\n",
      "guess: 4.999637603759766\n",
      "square: 24.99637616892869\n",
      "left: 4.999637603759766, right:5.002021789550781\n",
      "guess: 5.000829696655273\n",
      "square: 25.008297654949274\n",
      "left: 4.999637603759766, right:5.000829696655273\n",
      "guess: 5.0002336502075195\n",
      "square: 25.002336556667615\n"
     ]
    },
    {
     "data": {
      "text/plain": [
       "5.0002336502075195"
      ]
     },
     "execution_count": 35,
     "metadata": {},
     "output_type": "execute_result"
    }
   ],
   "source": [
    "fourth_root(625)"
   ]
  },
  {
   "cell_type": "markdown",
   "metadata": {},
   "source": [
    "# Code for 5th root\n",
    " - complexity - O(1) --> As the value of depth is constant so it will take constant time, irrespective of the value of number"
   ]
  },
  {
   "cell_type": "code",
   "execution_count": 39,
   "metadata": {},
   "outputs": [],
   "source": [
    "def fifth_root(number):\n",
    "    if number < 0:\n",
    "        raise ValueError(\"Cannot compute the square root of a negative number.\")\n",
    "    if number == 0:\n",
    "        return 0\n",
    "\n",
    "    depth = 20\n",
    "    left = 0\n",
    "    right = number\n",
    "\n",
    "    for _ in range(depth):\n",
    "        print(f\"left: {left}, right:{right}\")\n",
    "        guess = (left + right) / 2\n",
    "        print(f\"guess: {guess}\")\n",
    "        print(f\"square: {guess * guess}\")\n",
    "        if (guess ** 5 > number):\n",
    "            right = guess\n",
    "        else:\n",
    "            left = guess\n",
    "    return guess"
   ]
  },
  {
   "cell_type": "code",
   "execution_count": 40,
   "metadata": {},
   "outputs": [
    {
     "name": "stdout",
     "output_type": "stream",
     "text": [
      "left: 0, right:32\n",
      "guess: 16.0\n",
      "square: 256.0\n",
      "left: 0, right:16.0\n",
      "guess: 8.0\n",
      "square: 64.0\n",
      "left: 0, right:8.0\n",
      "guess: 4.0\n",
      "square: 16.0\n",
      "left: 0, right:4.0\n",
      "guess: 2.0\n",
      "square: 4.0\n",
      "left: 2.0, right:4.0\n",
      "guess: 3.0\n",
      "square: 9.0\n",
      "left: 2.0, right:3.0\n",
      "guess: 2.5\n",
      "square: 6.25\n",
      "left: 2.0, right:2.5\n",
      "guess: 2.25\n",
      "square: 5.0625\n",
      "left: 2.0, right:2.25\n",
      "guess: 2.125\n",
      "square: 4.515625\n",
      "left: 2.0, right:2.125\n",
      "guess: 2.0625\n",
      "square: 4.25390625\n",
      "left: 2.0, right:2.0625\n",
      "guess: 2.03125\n",
      "square: 4.1259765625\n",
      "left: 2.0, right:2.03125\n",
      "guess: 2.015625\n",
      "square: 4.062744140625\n",
      "left: 2.0, right:2.015625\n",
      "guess: 2.0078125\n",
      "square: 4.03131103515625\n",
      "left: 2.0, right:2.0078125\n",
      "guess: 2.00390625\n",
      "square: 4.0156402587890625\n",
      "left: 2.0, right:2.00390625\n",
      "guess: 2.001953125\n",
      "square: 4.007816314697266\n",
      "left: 2.0, right:2.001953125\n",
      "guess: 2.0009765625\n",
      "square: 4.003907203674316\n",
      "left: 2.0, right:2.0009765625\n",
      "guess: 2.00048828125\n",
      "square: 4.001953363418579\n",
      "left: 2.0, right:2.00048828125\n",
      "guess: 2.000244140625\n",
      "square: 4.000976622104645\n",
      "left: 2.0, right:2.000244140625\n",
      "guess: 2.0001220703125\n",
      "square: 4.000488296151161\n",
      "left: 2.0, right:2.0001220703125\n",
      "guess: 2.00006103515625\n",
      "square: 4.00024414435029\n",
      "left: 2.0, right:2.00006103515625\n",
      "guess: 2.000030517578125\n",
      "square: 4.000122071243823\n"
     ]
    },
    {
     "data": {
      "text/plain": [
       "2.000030517578125"
      ]
     },
     "execution_count": 40,
     "metadata": {},
     "output_type": "execute_result"
    }
   ],
   "source": [
    "fifth_root(32)"
   ]
  },
  {
   "cell_type": "markdown",
   "metadata": {},
   "source": [
    "# Write code for convert_to_prob(arr)\n",
    "input : 10, 20, 30\n",
    "output : 10/(10+20+30), 20/(10+20+30), 30/(10+20+30)\n",
    "\n",
    "- time complexity is O(n)\n",
    "  - sum function iterates over the array --> O(n)\n",
    "  - [element / total for element in ip] iterates of the ip array --> O(n)\n",
    "  - O(n) + O(n) = O(n)"
   ]
  },
  {
   "cell_type": "code",
   "execution_count": 17,
   "metadata": {},
   "outputs": [
    {
     "data": {
      "text/plain": [
       "[0.16666666666666666, 0.3333333333333333, 0.5]"
      ]
     },
     "execution_count": 17,
     "metadata": {},
     "output_type": "execute_result"
    }
   ],
   "source": [
    "def convert_to_prob(arr):\n",
    "    total = sum(arr)\n",
    "    op = [element / total for element in ip]\n",
    "    return op\n",
    "\n",
    "ip = [10, 20, 30]\n",
    "convert_to_prob(ip)"
   ]
  },
  {
   "cell_type": "markdown",
   "metadata": {},
   "source": [
    "# Write code for softmax(arr)\n",
    "input : [1,2,3]\n",
    "output : 10^1 , 10^2, 10^3 --> convert_to_prob()\n",
    "\n",
    "- time complexity is O(n)\n",
    "  - convert_to_prob --> O(n)\n",
    "  - [10 ** x for x in ip] iterates of the ip array --> O(n)\n",
    "  - O(n) + O(n) = O(n)"
   ]
  },
  {
   "cell_type": "code",
   "execution_count": 20,
   "metadata": {},
   "outputs": [
    {
     "name": "stdout",
     "output_type": "stream",
     "text": [
      "[10, 100, 1000]\n"
     ]
    },
    {
     "data": {
      "text/plain": [
       "[0.0009009009009009009, 0.0018018018018018018, 0.002702702702702703]"
      ]
     },
     "execution_count": 20,
     "metadata": {},
     "output_type": "execute_result"
    }
   ],
   "source": [
    "ip = [1, 2, 3]\n",
    "\n",
    "def softmax(arr):\n",
    "    intermidiate_arr = [10 ** x for x in ip]\n",
    "    print(intermidiate_arr)\n",
    "    op = convert_to_prob(intermidiate_arr)\n",
    "    return op\n",
    "\n",
    "softmax(ip)"
   ]
  },
  {
   "cell_type": "markdown",
   "metadata": {},
   "source": [
    "Modifications that can be done - 8th june"
   ]
  },
  {
   "cell_type": "code",
   "execution_count": 1,
   "metadata": {},
   "outputs": [],
   "source": [
    "def almost_equal(a,b):\n",
    "    tolerance = 0.0001\n",
    "    diff = a - b\n",
    "    if diff < 0:\n",
    "        diff = -diff\n",
    "    if diff <= tolerance:\n",
    "        return True\n",
    "    else:\n",
    "        return False"
   ]
  },
  {
   "cell_type": "code",
   "execution_count": 2,
   "metadata": {},
   "outputs": [],
   "source": [
    "def rt(n, pthroot):\n",
    "    guess = 1\n",
    "    guess_power = 1\n",
    "    left = 0\n",
    "    right = n\n",
    "    while not almost_equal(guess_power, n):\n",
    "        guess = (right + left) / 2\n",
    "        guess_power = guess ** pthroot\n",
    "        print(f\"left: {left}, right: {right}\")\n",
    "        print(f\"guess: {guess} guess_square: {guess_power}\")\n",
    "        if guess_power > n:\n",
    "            right = guess\n",
    "        elif guess_power < n:\n",
    "            left = guess\n",
    "        print(f\" {n} to the power of 1/{pthroot} is approximately {guess}\")"
   ]
  },
  {
   "cell_type": "code",
   "execution_count": 3,
   "metadata": {},
   "outputs": [
    {
     "name": "stdout",
     "output_type": "stream",
     "text": [
      "left: 0, right: 64\n",
      "guess: 32.0 guess_square: 1073741824.0\n",
      " 64 to the power of 1/6 is approximately 32.0\n",
      "left: 0, right: 32.0\n",
      "guess: 16.0 guess_square: 16777216.0\n",
      " 64 to the power of 1/6 is approximately 16.0\n",
      "left: 0, right: 16.0\n",
      "guess: 8.0 guess_square: 262144.0\n",
      " 64 to the power of 1/6 is approximately 8.0\n",
      "left: 0, right: 8.0\n",
      "guess: 4.0 guess_square: 4096.0\n",
      " 64 to the power of 1/6 is approximately 4.0\n",
      "left: 0, right: 4.0\n",
      "guess: 2.0 guess_square: 64.0\n",
      " 64 to the power of 1/6 is approximately 2.0\n"
     ]
    }
   ],
   "source": [
    "rt(64, 6)"
   ]
  },
  {
   "cell_type": "code",
   "execution_count": null,
   "metadata": {},
   "outputs": [],
   "source": []
  }
 ],
 "metadata": {
  "kernelspec": {
   "display_name": "Python 3",
   "language": "python",
   "name": "python3"
  },
  "language_info": {
   "codemirror_mode": {
    "name": "ipython",
    "version": 3
   },
   "file_extension": ".py",
   "mimetype": "text/x-python",
   "name": "python",
   "nbconvert_exporter": "python",
   "pygments_lexer": "ipython3",
   "version": "3.6.8"
  },
  "toc": {
   "base_numbering": 1,
   "nav_menu": {},
   "number_sections": true,
   "sideBar": true,
   "skip_h1_title": false,
   "title_cell": "Table of Contents",
   "title_sidebar": "Contents",
   "toc_cell": false,
   "toc_position": {},
   "toc_section_display": true,
   "toc_window_display": false
  }
 },
 "nbformat": 4,
 "nbformat_minor": 2
}
