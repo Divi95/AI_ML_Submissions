{
 "cells": [
  {
   "cell_type": "code",
   "execution_count": 1,
   "metadata": {},
   "outputs": [],
   "source": [
    "# Question: [(0,\"x\"), (1, 12), (0, 34), (1,90), (1,89), (0,\"s\"),  (1, \"7\")]\n",
    "\n",
    "# Move all zeros to the beginning and all 1s to the end without using another list in \n",
    "# order of n\n",
    "# Input: [(0,\"x\"), (1, 12), (0, 34), (1,90), (1,89), (0,\"s\"),  (1, \"7\")]\n",
    "# Expected Output: [(0,\"x\"), (0, 34), (0,\"s\"), (1,89), (1,90), (1, 12),  (1, \"7\")]"
   ]
  },
  {
   "cell_type": "code",
   "execution_count": 2,
   "metadata": {},
   "outputs": [
    {
     "name": "stdout",
     "output_type": "stream",
     "text": [
      "[(1, '7'), (0, 'x'), (1, 12), (0, 34), (1, 90), (1, 89), (0, 's'), (1, '7'), (0, 's')]\n",
      "[(0, 's'), (0, 'x'), (0, 's'), (0, 34), (1, 90), (1, 89), (1, 12), (1, '7'), (1, '7')]\n"
     ]
    }
   ],
   "source": [
    "def sort_tuple(tuple_list):\n",
    "    \n",
    "    start_ptr = 0\n",
    "    end_ptr = len(tuple_list) - 1 \n",
    "    \n",
    "    while (start_ptr < end_ptr):\n",
    "        if (tuple_list[start_ptr][0] > tuple_list[end_ptr][0]):\n",
    "            tmp_tupl = tuple_list[end_ptr]\n",
    "            tuple_list[end_ptr] =  tuple_list[start_ptr]\n",
    "            tuple_list[start_ptr] = tmp_tupl\n",
    "            start_ptr=start_ptr+1\n",
    "            end_ptr=end_ptr-1\n",
    "        elif (tuple_list[start_ptr][0] == 0 ) :\n",
    "            start_ptr=start_ptr+1\n",
    "        else :\n",
    "            end_ptr=end_ptr-1\n",
    "    return tuple_list\n",
    "\n",
    "\n",
    "tpl_list = [(1, \"7\"),(0,\"x\"), (1, 12), (0, 34), (1,90), (1,89), (0,\"s\"),  (1, \"7\"), (0,\"s\")]\n",
    "print(tpl_list)\n",
    "\n",
    "tpl_list = sort_tuple(tpl_list)\n",
    "print(tpl_list)"
   ]
  },
  {
   "cell_type": "code",
   "execution_count": null,
   "metadata": {},
   "outputs": [],
   "source": []
  },
  {
   "cell_type": "code",
   "execution_count": null,
   "metadata": {},
   "outputs": [],
   "source": []
  }
 ],
 "metadata": {
  "kernelspec": {
   "display_name": "Python 3",
   "language": "python",
   "name": "python3"
  },
  "language_info": {
   "codemirror_mode": {
    "name": "ipython",
    "version": 3
   },
   "file_extension": ".py",
   "mimetype": "text/x-python",
   "name": "python",
   "nbconvert_exporter": "python",
   "pygments_lexer": "ipython3",
   "version": "3.6.8"
  },
  "toc": {
   "base_numbering": 1,
   "nav_menu": {},
   "number_sections": true,
   "sideBar": true,
   "skip_h1_title": false,
   "title_cell": "Table of Contents",
   "title_sidebar": "Contents",
   "toc_cell": false,
   "toc_position": {},
   "toc_section_display": true,
   "toc_window_display": false
  }
 },
 "nbformat": 4,
 "nbformat_minor": 2
}
