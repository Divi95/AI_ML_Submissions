{
 "cells": [
  {
   "cell_type": "markdown",
   "metadata": {},
   "source": [
    "Implement code for Merge sort"
   ]
  },
  {
   "cell_type": "code",
   "execution_count": 4,
   "metadata": {},
   "outputs": [
    {
     "name": "stdout",
     "output_type": "stream",
     "text": [
      "Sorting the following list [9, -3, 5, 0, -7, 1, 5, -2, 4]\n",
      "The sorted List is as below [-7, -3, -2, 0, 1, 4, 5, 5, 9]\n"
     ]
    }
   ],
   "source": [
    "def mergeSort(lst):\n",
    "    lst_lenght = len(lst)\n",
    "    if lst_lenght <= 1:\n",
    "        return lst\n",
    "    else:\n",
    "        middle_element_id = (lst_lenght) // 2\n",
    "        left_lst = lst[0:middle_element_id]\n",
    "        right_lst = lst[middle_element_id:]\n",
    "\n",
    "        left_lst = mergerSort(left_lst)\n",
    "        if (len(right_lst) > 1):\n",
    "            right_lst = mergerSort(right_lst)\n",
    "\n",
    "        sorted_lst = merge(left_lst, right_lst)\n",
    "        return sorted_lst\n",
    "\n",
    "\n",
    "def merge(leftlst, rightlst):\n",
    "    sorted_lst = []\n",
    "    i = 0\n",
    "    j = 0\n",
    "    for z in range(len(rightlst)+len(leftlst)):\n",
    "        if (len(rightlst) > j and len(leftlst) > i):\n",
    "            if (leftlst[i] < rightlst[j]):\n",
    "                sorted_lst.append(leftlst[i])\n",
    "                i += 1\n",
    "                continue\n",
    "            else:\n",
    "                sorted_lst.append(rightlst[j])\n",
    "                j += 1\n",
    "                continue\n",
    "        elif len(leftlst) == i:\n",
    "                sorted_lst.append(rightlst[j])\n",
    "                j += 1\n",
    "                continue\n",
    "        elif len(rightlst) == j:\n",
    "                sorted_lst.append(leftlst[i])\n",
    "                i += 1\n",
    "                continue\n",
    "    return sorted_lst\n",
    "\n",
    "unsortedList2 = [9, -3, 5, 0, -7, 1, 5, -2, 4]\n",
    "print(f\"Sorting the following list {unsortedList2}\")\n",
    "sortedList2 = mergeSort(unsortedList2)\n",
    "print(f\"The sorted List is as below {sortedList2}\")"
   ]
  },
  {
   "cell_type": "code",
   "execution_count": null,
   "metadata": {},
   "outputs": [],
   "source": []
  }
 ],
 "metadata": {
  "kernelspec": {
   "display_name": "Python 3",
   "language": "python",
   "name": "python3"
  },
  "language_info": {
   "codemirror_mode": {
    "name": "ipython",
    "version": 3
   },
   "file_extension": ".py",
   "mimetype": "text/x-python",
   "name": "python",
   "nbconvert_exporter": "python",
   "pygments_lexer": "ipython3",
   "version": "3.6.8"
  },
  "toc": {
   "base_numbering": 1,
   "nav_menu": {},
   "number_sections": true,
   "sideBar": true,
   "skip_h1_title": false,
   "title_cell": "Table of Contents",
   "title_sidebar": "Contents",
   "toc_cell": false,
   "toc_position": {},
   "toc_section_display": true,
   "toc_window_display": false
  }
 },
 "nbformat": 4,
 "nbformat_minor": 2
}
