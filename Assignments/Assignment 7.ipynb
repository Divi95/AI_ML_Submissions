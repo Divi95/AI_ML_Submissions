{
 "cells": [
  {
   "cell_type": "markdown",
   "metadata": {},
   "source": [
    "#### : Coin Toss: Create a function that return 0 or 1 with equal probability. Hint: random.random()"
   ]
  },
  {
   "cell_type": "code",
   "execution_count": 2,
   "metadata": {},
   "outputs": [
    {
     "name": "stdout",
     "output_type": "stream",
     "text": [
      "10 coin toss results: [0, 0, 0, 1, 0, 1, 1, 0, 0, 0]\n",
      "Heads: 7, Tails: 3\n"
     ]
    }
   ],
   "source": [
    "import random\n",
    "\n",
    "def coin_toss():\n",
    "  if random.random() < 0.5:\n",
    "    return 0\n",
    "  else:\n",
    "    return 1\n",
    "results = [coin_toss() for _ in range(10)]\n",
    "print(f\"10 coin toss results: {results}\")\n",
    "\n",
    "heads_count = results.count(0)\n",
    "tails_count = results.count(1)\n",
    "print(f\"Heads: {heads_count}, Tails: {tails_count}\")"
   ]
  },
  {
   "cell_type": "markdown",
   "metadata": {},
   "source": [
    "#### : Coin Toss: Create a function that return 0, 1, 2 with equal probability."
   ]
  },
  {
   "cell_type": "code",
   "execution_count": 5,
   "metadata": {},
   "outputs": [],
   "source": [
    "import random\n",
    "\n",
    "def weighted_coin_toss(p1, p2, p3):\n",
    "  if not abs((p1 + p2 + p3) - 1.0) < 1e-9:  # Check if probabilities sum to 1 (with tolerance)\n",
    "    raise ValueError(\"Probabilities p1, p2, and p3 must sum to approximately 1.\")\n",
    "\n",
    "  rand_num = random.random()\n",
    "\n",
    "  if rand_num < p1:\n",
    "    return 0\n",
    "  elif rand_num < p1 + p2:\n",
    "    return 1\n",
    "  else:\n",
    "    return 2"
   ]
  },
  {
   "cell_type": "code",
   "execution_count": 6,
   "metadata": {},
   "outputs": [
    {
     "name": "stdout",
     "output_type": "stream",
     "text": [
      "Fair three-sided toss counts: {0: 3328, 1: 3318, 2: 3354}\n"
     ]
    }
   ],
   "source": [
    "# Fair three-sided \"coin\"\n",
    "prob_fair_1 = 1/3\n",
    "prob_fair_2 = 1/3\n",
    "prob_fair_3 = 1/3\n",
    "results_fair = [weighted_coin_toss(prob_fair_1, prob_fair_2, prob_fair_3) for _ in range(10000)]\n",
    "counts_fair = {i: results_fair.count(i) for i in [0, 1, 2]}\n",
    "print(f\"Fair three-sided toss counts: {counts_fair}\")"
   ]
  },
  {
   "cell_type": "code",
   "execution_count": 7,
   "metadata": {},
   "outputs": [
    {
     "name": "stdout",
     "output_type": "stream",
     "text": [
      "Biased three-sided toss counts: {0: 7019, 1: 1984, 2: 997}\n"
     ]
    }
   ],
   "source": [
    "# Biased three-sided \"coin\"\n",
    "prob_biased_1 = 0.7\n",
    "prob_biased_2 = 0.2\n",
    "prob_biased_3 = 0.1\n",
    "results_biased = [weighted_coin_toss(prob_biased_1, prob_biased_2, prob_biased_3) for _ in range(10000)]\n",
    "counts_biased = {i: results_biased.count(i) for i in [0, 1, 2]}\n",
    "print(f\"Biased three-sided toss counts: {counts_biased}\")"
   ]
  },
  {
   "cell_type": "markdown",
   "metadata": {},
   "source": [
    "#### : Create a n faced die which generates number from 0 to n - 1 with equal probability."
   ]
  },
  {
   "cell_type": "code",
   "execution_count": 18,
   "metadata": {},
   "outputs": [
    {
     "name": "stdout",
     "output_type": "stream",
     "text": [
      "Example for fair f{num} sided dice\n",
      "Number of 0's occured : 2.51\n",
      "Number of 1's occured : 7.22\n",
      "Number of 2's occured : 13.76\n",
      "Number of 3's occured : 7.18\n",
      "Number of 4's occured : 16.87\n",
      "Number of 5's occured : 7.24\n",
      "Number of 6's occured : 16.69\n",
      "Number of 7's occured : 7.40\n",
      "Number of 8's occured : 14.35\n",
      "Number of 9's occured : 6.78\n",
      "Total : 1.00\n"
     ]
    }
   ],
   "source": [
    "from random import random\n",
    "def dice_fair(n):\n",
    "    rr = random()\n",
    "    ii = int(rr*(10**(len(str(rr))-2)))\n",
    "    return (ii % n)\n",
    "\n",
    "num = 10\n",
    "result = [coint_toss_fair(num) for i in range(10000)]\n",
    "print(\"Example for fair f{num} sided dice\")\n",
    "\n",
    "total=0\n",
    "for i in range(num):\n",
    "    print(f\"Number of {i}'s occured : {100 * (result.count(i) / len(result)) :.2f}\")\n",
    "    total+=result.count(i) / len(result)\n",
    "    i+=1\n",
    "\n",
    "print(f\"Total : {total :.2f}\")"
   ]
  },
  {
   "cell_type": "markdown",
   "metadata": {},
   "source": [
    "#### : Unfair Coin\n",
    "def coin_toss(p1, p2):\n",
    "    # p1 /(p1 + p2), p2/(p1+p2)\n",
    "    # return 0 p1 probability\n",
    "    # return 1 with p2 probability"
   ]
  },
  {
   "cell_type": "code",
   "execution_count": 19,
   "metadata": {},
   "outputs": [
    {
     "name": "stdout",
     "output_type": "stream",
     "text": [
      "Example for unfair two sided coin toss. 0 probability :{0.3} and 1 probability {0.7}\n",
      "Number of 0's occured : 74.77\n",
      "Number of 1's occured : 25.23\n"
     ]
    }
   ],
   "source": [
    "from random import random\n",
    "def coin_toss_unfair(p1, p2):\n",
    "    pp1 = p1 / (p1 + p2)\n",
    "    pp2 = p2 / (p1 + p2)\n",
    "    r = random()\n",
    "    if r < pp1:\n",
    "        return 0\n",
    "    else:\n",
    "        return 1\n",
    "\n",
    "result = [coin_toss_unfair(9,3) for i in range(10000)]\n",
    "print(\"Example for unfair two sided coin toss. 0 probability :{0.3} and 1 probability {0.7}\")\n",
    "print(f\"Number of 0's occured : {100 * (result.count(0) / len(result)) :.2f}\")\n",
    "print(f\"Number of 1's occured : {100 * (result.count(1) / len(result)) :.2f}\")"
   ]
  },
  {
   "cell_type": "markdown",
   "metadata": {},
   "source": [
    "#### : Coin Toss, takes three probability p1, p2, p3 as arguments."
   ]
  },
  {
   "cell_type": "code",
   "execution_count": 20,
   "metadata": {},
   "outputs": [],
   "source": [
    "import random\n",
    "\n",
    "def coin_toss(p1, p2, p3):\n",
    "    if not (0 <= p1 <= 1 and 0 <= p2 <= 1 and 0 <= p3 <= 1):\n",
    "        raise ValueError(\"Probabilities must be between 0 and 1.\")\n",
    "    if round(p1 + p2 + p3, 5) != 1.0:\n",
    "        raise ValueError(\"Probabilities must sum to 1.\")\n",
    "\n",
    "    r = random.random()\n",
    "\n",
    "    if r < p1:\n",
    "        return \"Outcome 1\"\n",
    "    elif r < p1 + p2:\n",
    "        return \"Outcome 2\"\n",
    "    else:\n",
    "        return \"Outcome 3\""
   ]
  },
  {
   "cell_type": "code",
   "execution_count": 22,
   "metadata": {},
   "outputs": [
    {
     "name": "stdout",
     "output_type": "stream",
     "text": [
      "Outcome 3\n",
      "Outcome 1\n",
      "Outcome 1\n",
      "Outcome 1\n",
      "Outcome 1\n",
      "Outcome 2\n",
      "Outcome 3\n",
      "Outcome 1\n",
      "Outcome 1\n",
      "Outcome 2\n"
     ]
    }
   ],
   "source": [
    "for _ in range(10):\n",
    "    print(coin_toss(0.4, 0.4, 0.2))"
   ]
  },
  {
   "cell_type": "markdown",
   "metadata": {},
   "source": [
    "#### : Generalize Q5 to n number of faces. Take an array of probabilities and return 0 to len of array."
   ]
  },
  {
   "cell_type": "code",
   "execution_count": 23,
   "metadata": {},
   "outputs": [],
   "source": [
    "import random\n",
    "\n",
    "def multi_face_toss(probs):\n",
    "    if not all(0 <= p <= 1 for p in probs):\n",
    "        raise ValueError(\"All probabilities must be between 0 and 1.\")\n",
    "    if round(sum(probs), 5) != 1.0:\n",
    "        raise ValueError(\"Probabilities must sum to 1.\")\n",
    "\n",
    "    r = random.random()\n",
    "    cumulative = 0\n",
    "\n",
    "    for i, p in enumerate(probs):\n",
    "        cumulative += p\n",
    "        if r < cumulative:\n",
    "            return i\n"
   ]
  },
  {
   "cell_type": "code",
   "execution_count": 24,
   "metadata": {},
   "outputs": [
    {
     "name": "stdout",
     "output_type": "stream",
     "text": [
      "1\n",
      "2\n",
      "1\n",
      "3\n",
      "1\n",
      "2\n",
      "2\n",
      "2\n",
      "3\n",
      "2\n"
     ]
    }
   ],
   "source": [
    "# 4-faced \"die\" with probabilities\n",
    "probs = [0.1, 0.3, 0.4, 0.2]  # Should sum to 1.0\n",
    "\n",
    "# Run multiple times\n",
    "for _ in range(10):\n",
    "    print(multi_face_toss(probs))\n"
   ]
  },
  {
   "cell_type": "code",
   "execution_count": null,
   "metadata": {},
   "outputs": [],
   "source": []
  }
 ],
 "metadata": {
  "kernelspec": {
   "display_name": "Python 3",
   "language": "python",
   "name": "python3"
  },
  "language_info": {
   "codemirror_mode": {
    "name": "ipython",
    "version": 3
   },
   "file_extension": ".py",
   "mimetype": "text/x-python",
   "name": "python",
   "nbconvert_exporter": "python",
   "pygments_lexer": "ipython3",
   "version": "3.6.8"
  },
  "toc": {
   "base_numbering": 1,
   "nav_menu": {},
   "number_sections": true,
   "sideBar": true,
   "skip_h1_title": false,
   "title_cell": "Table of Contents",
   "title_sidebar": "Contents",
   "toc_cell": false,
   "toc_position": {},
   "toc_section_display": true,
   "toc_window_display": false
  }
 },
 "nbformat": 4,
 "nbformat_minor": 2
}
