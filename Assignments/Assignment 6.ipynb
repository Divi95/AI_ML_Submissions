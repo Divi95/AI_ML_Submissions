{
 "cells": [
  {
   "cell_type": "markdown",
   "metadata": {},
   "source": [
    "Q: Write a wild card character matcher. * matches 0 or more chars. ? matches only one character.\n",
    "\n",
    "    a* -> abc, ab, ax, a \n",
    "    a? -> a1, a2, aa,\n",
    "    a*b -> axyzb, a123b, ab\n",
    "    a*b*c -> abc, abbbc, a1b1c\n",
    "    aa?b*:\n",
    "        match: aa1b, aaxby, aa1bcdeffgshshshsh\n",
    "        not match: aab, ab,\n",
    "```\n",
    "def ismatch(pat, text):\n",
    "    return True/False\n",
    "```"
   ]
  },
  {
   "cell_type": "code",
   "execution_count": 6,
   "metadata": {},
   "outputs": [],
   "source": [
    "def ismatch(pat, text):\n",
    "    if not pat:\n",
    "        return not text\n",
    "\n",
    "    first_char_matches = bool(text) and (pat[0] == text[0] or pat[0] == '?')\n",
    "\n",
    "    if len(pat) >= 2 and pat[1] == '*':\n",
    "        # Case 1: '*' matches zero characters\n",
    "        # Try matching the rest of the pattern with the current text\n",
    "        if ismatch(pat[2:], text):\n",
    "            return True\n",
    "        # Case 2: '*' matches one or more characters\n",
    "        # Try matching the current pattern with the rest of the text\n",
    "        if first_char_matches and ismatch(pat, text[1:]):\n",
    "            return True\n",
    "        return False\n",
    "    else:\n",
    "        # If the next character in the pattern is not '*',\n",
    "        # the first characters of the pattern and text must match\n",
    "        return first_char_matches and ismatch(pat[1:], text[1:])\n"
   ]
  },
  {
   "cell_type": "code",
   "execution_count": 8,
   "metadata": {},
   "outputs": [
    {
     "name": "stdout",
     "output_type": "stream",
     "text": [
      "ismatch('a*', 'abc'): False\n",
      "ismatch('a*', 'ab'): False\n",
      "ismatch('a*', 'ax'): False\n",
      "ismatch('a*', 'a'): True\n",
      "ismatch('a?', 'a1'): True\n",
      "ismatch('aa?b*', 'aa1bcdeffgshshshsh'): False\n",
      "ismatch('aa?b*', 'aab'): True\n",
      "ismatch('aa?b*', 'ab'): False\n"
     ]
    }
   ],
   "source": [
    "print(f\"ismatch('a*', 'abc'): {ismatch('a*', 'abc')}\")\n",
    "print(f\"ismatch('a*', 'ab'): {ismatch('a*', 'ab')}\")\n",
    "print(f\"ismatch('a*', 'ax'): {ismatch('a*', 'ax')}\")\n",
    "print(f\"ismatch('a*', 'a'): {ismatch('a*', 'a')}\")\n",
    "print(f\"ismatch('a?', 'a1'): {ismatch('a?', 'a1')}\")\n",
    "print(f\"ismatch('aa?b*', 'aa1bcdeffgshshshsh'): {ismatch('aa?b*', 'aa1bcdeffgshshshsh')}\")\n",
    "print(f\"ismatch('aa?b*', 'aab'): {ismatch('aa?b*', 'aab')}\")\n",
    "print(f\"ismatch('aa?b*', 'ab'): {ismatch('aa?b*', 'ab')}\")"
   ]
  },
  {
   "cell_type": "code",
   "execution_count": null,
   "metadata": {},
   "outputs": [],
   "source": []
  }
 ],
 "metadata": {
  "kernelspec": {
   "display_name": "Python 3",
   "language": "python",
   "name": "python3"
  },
  "language_info": {
   "codemirror_mode": {
    "name": "ipython",
    "version": 3
   },
   "file_extension": ".py",
   "mimetype": "text/x-python",
   "name": "python",
   "nbconvert_exporter": "python",
   "pygments_lexer": "ipython3",
   "version": "3.6.8"
  },
  "toc": {
   "base_numbering": 1,
   "nav_menu": {},
   "number_sections": true,
   "sideBar": true,
   "skip_h1_title": false,
   "title_cell": "Table of Contents",
   "title_sidebar": "Contents",
   "toc_cell": false,
   "toc_position": {},
   "toc_section_display": true,
   "toc_window_display": false
  }
 },
 "nbformat": 4,
 "nbformat_minor": 2
}
