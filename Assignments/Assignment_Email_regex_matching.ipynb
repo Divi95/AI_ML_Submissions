{
 "cells": [
  {
   "cell_type": "markdown",
   "metadata": {},
   "source": [
    "Q1: Write regular expression to match email address"
   ]
  },
  {
   "cell_type": "raw",
   "metadata": {},
   "source": [
    "aab7-86_@gmail.com\n",
    "abc-d@mail.com\n",
    "abc.def@mail.com\n",
    "abc.def@mail.org.com\n",
    "_adc@gmail.com\n",
    "\n",
    "------------------------ Invalid\n",
    "abc-@mail.com\n",
    "abc..def@mail.com\n",
    ".abc@mail.com\n",
    "abc#d@mail.com\n",
    "_adc@gmail.com\n",
    "-------------------------invalid\n",
    "\n",
    "^[^.#-](?!.*#|.*\\.\\.)[a-zA-Z0-9._%+-^#]+[^-\\.]+@[a-zA-Z0-9.-]+\\.[a-zA-Z]{2,}$\n"
   ]
  },
  {
   "cell_type": "markdown",
   "metadata": {},
   "source": [
    "Q2. Write regex to match URLs."
   ]
  },
  {
   "cell_type": "raw",
   "metadata": {},
   "source": [
    "https://www.google.com/\n",
    "http://www.bing.com\n",
    "http://en.wikipedia.org/wiki/Main_Page\n",
    "ftp://ftp.example.com/pub/documents/report.pdf\n",
    "https://www.youtube.com/watch?v=dQw4w9WgXcQ\n",
    "https://www.bbc.co.uk/\n",
    "https://www..co.uk/\n",
    "\n",
    "\n",
    "^(?!.*\\.\\.)(http|https|ftp):\\/\\/(?:www\\.|en\\.|ftp\\.)[a-zA-Z0-9\\.]+\\.[a-z]{2,}(?:\\/[^\\s]*)?$"
   ]
  },
  {
   "cell_type": "markdown",
   "metadata": {},
   "source": [
    "Q3: Build a regular expression to extract URLs from the server logs 'access.log.41'"
   ]
  },
  {
   "cell_type": "code",
   "execution_count": 8,
   "metadata": {},
   "outputs": [
    {
     "name": "stdout",
     "output_type": "stream",
     "text": [
      "http://www.ly.com/\n",
      "http://www.majestic12.co.uk/bot.php?+)\"\n",
      "http://www.majestic12.co.uk/bot.php?+)\"\n",
      "http://www.ly.com/\n",
      "http://www.ly.com/\n",
      "http://www.bing.com/bingbot.htm)\"\n",
      "http://www.majestic12.co.uk/bot.php?+)\"\n",
      "http://www.majestic12.co.uk/bot.php?+)\"\n",
      "http://www.opensiteexplorer.org/dotbot,\n",
      "http://www.opensiteexplorer.org/dotbot,\n",
      "http://www.ly.com/\n",
      "http://www.opensiteexplorer.org/dotbot,\n",
      "http://www.opensiteexplorer.org/dotbot,\n",
      "http://www.majestic12.co.uk/bot.php?+)\"\n",
      "http://www.majestic12.co.uk/bot.php?+)\"\n",
      "http://www.majestic12.co.uk/bot.php?+)\"\n",
      "http://www.majestic12.co.uk/bot.php?+)\"\n",
      "http://www.majestic12.co.uk/bot.php?+)\"\n",
      "http://www.majestic12.co.uk/bot.php?+)\"\n",
      "http://www.ly.com/\n",
      "http://www.opensiteexplorer.org/dotbot,\n",
      "http://www.opensiteexplorer.org/dotbot,\n",
      "http://www.ly.com/\n",
      "http://www.ly.com/\n",
      "http://www.ly.com/\n",
      "http://www.majestic12.co.uk/bot.php?+)\"\n",
      "http://www.majestic12.co.uk/bot.php?+)\"\n",
      "http://www.ly.com/\n"
     ]
    }
   ],
   "source": [
    "import re\n",
    "patternToMatch = r\"^(?!.*\\.\\.)(http|https|ftp):\\/\\/(?:www\\.|en\\.|ftp\\.)[a-zA-Z0-9\\.]+\\.[a-z]{2,}(?:\\/[^\\s]*)?$\"\n",
    "with open(\"Access_log.txt\") as fp:\n",
    "    lines = fp.readlines()\n",
    "    result = []\n",
    "    for line in lines:\n",
    "        words = line.split()\n",
    "        for word in words:\n",
    "            match = re.search(patternToMatch, word)\n",
    "            if match:\n",
    "                result.append(match.group())\n",
    "# Print the results\n",
    "for url in result:\n",
    "    print(url)"
   ]
  },
  {
   "cell_type": "code",
   "execution_count": null,
   "metadata": {},
   "outputs": [],
   "source": []
  },
  {
   "cell_type": "code",
   "execution_count": null,
   "metadata": {},
   "outputs": [],
   "source": []
  }
 ],
 "metadata": {
  "kernelspec": {
   "display_name": "Python 3",
   "language": "python",
   "name": "python3"
  },
  "language_info": {
   "codemirror_mode": {
    "name": "ipython",
    "version": 3
   },
   "file_extension": ".py",
   "mimetype": "text/x-python",
   "name": "python",
   "nbconvert_exporter": "python",
   "pygments_lexer": "ipython3",
   "version": "3.6.8"
  },
  "toc": {
   "base_numbering": 1,
   "nav_menu": {},
   "number_sections": true,
   "sideBar": true,
   "skip_h1_title": false,
   "title_cell": "Table of Contents",
   "title_sidebar": "Contents",
   "toc_cell": false,
   "toc_position": {},
   "toc_section_display": true,
   "toc_window_display": false
  }
 },
 "nbformat": 4,
 "nbformat_minor": 2
}
