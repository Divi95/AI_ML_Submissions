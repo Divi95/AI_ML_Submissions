{
 "cells": [
  {
   "cell_type": "markdown",
   "metadata": {},
   "source": [
    "Problem 1: Write a program to calculate payments based on hr rate "
   ]
  },
  {
   "cell_type": "code",
   "execution_count": 8,
   "metadata": {},
   "outputs": [],
   "source": [
    "def calculate_payment(hourly_rate, hours_worked):\n",
    "    return hourly_rate * hours_worked\n",
    "\n",
    "def main():\n",
    "    hourly_rate = float(input(\"Enter your hourly rate (₹): \"))\n",
    "    hours_worked = float(input(\"Enter total hours worked: \"))\n",
    "\n",
    "    total_payment = calculate_payment(hourly_rate, hours_worked)\n",
    "        \n",
    "    print(f\"\\nTotal Payment: {total_payment:.2f}\")\n",
    "\n"
   ]
  },
  {
   "cell_type": "code",
   "execution_count": 10,
   "metadata": {},
   "outputs": [
    {
     "name": "stdout",
     "output_type": "stream",
     "text": [
      "Enter your hourly rate: 13\n",
      "Enter total hours worked: 8\n",
      "\n",
      "Total Payment: 104.00\n"
     ]
    }
   ],
   "source": [
    "main()"
   ]
  },
  {
   "cell_type": "markdown",
   "metadata": {},
   "source": [
    "\n",
    "Problem 2: Write a program to calculate compound interest based on user input on principle, years (duration) and interest rate."
   ]
  },
  {
   "cell_type": "code",
   "execution_count": 5,
   "metadata": {},
   "outputs": [],
   "source": [
    "def calculate_compound_interest(principal, rate, years):\n",
    "    # Formula: A = P * (1 + r/100) ^ t\n",
    "    amount = principal * (1 + (rate / 100)) ** years\n",
    "    compound_interest = amount - principal\n",
    "    return compound_interest, amount\n",
    "\n",
    "def main():\n",
    "    principal = float(input(\"Enter the principal amount: \"))\n",
    "    rate = float(input(\"Enter the annual interest rate (in %): \"))\n",
    "    years = int(input(\"Enter the number of years: \"))\n",
    "\n",
    "    interest, total_amount = calculate_compound_interest(principal, rate, years)\n",
    "        \n",
    "    print(f\"\\nCompound Interest after {years} years: {interest:.2f}\")\n",
    "    print(f\"Total amount after {years} years: {total_amount:.2f}\")\n"
   ]
  },
  {
   "cell_type": "code",
   "execution_count": 7,
   "metadata": {},
   "outputs": [
    {
     "name": "stdout",
     "output_type": "stream",
     "text": [
      "Enter the principal amount: 10000\n",
      "Enter the annual interest rate (in %): 9\n",
      "Enter the number of years: 45\n",
      "\n",
      "Compound Interest after 45 years: 473272.86\n",
      "Total amount after 45 years: 483272.86\n"
     ]
    }
   ],
   "source": [
    "main()"
   ]
  },
  {
   "cell_type": "code",
   "execution_count": null,
   "metadata": {},
   "outputs": [],
   "source": []
  }
 ],
 "metadata": {
  "kernelspec": {
   "display_name": "Python 3",
   "language": "python",
   "name": "python3"
  },
  "language_info": {
   "codemirror_mode": {
    "name": "ipython",
    "version": 3
   },
   "file_extension": ".py",
   "mimetype": "text/x-python",
   "name": "python",
   "nbconvert_exporter": "python",
   "pygments_lexer": "ipython3",
   "version": "3.6.8"
  },
  "toc": {
   "base_numbering": 1,
   "nav_menu": {},
   "number_sections": true,
   "sideBar": true,
   "skip_h1_title": false,
   "title_cell": "Table of Contents",
   "title_sidebar": "Contents",
   "toc_cell": false,
   "toc_position": {},
   "toc_section_display": true,
   "toc_window_display": false
  }
 },
 "nbformat": 4,
 "nbformat_minor": 2
}
