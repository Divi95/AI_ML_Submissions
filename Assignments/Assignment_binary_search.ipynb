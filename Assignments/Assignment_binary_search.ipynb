{
 "cells": [
  {
   "cell_type": "markdown",
   "metadata": {},
   "source": [
    "## : Given array of sorted numbers, check if a number exists in them\n",
    "    - Linear search  --> O(n)\n",
    "    - Binary search  --> O(logn)"
   ]
  },
  {
   "cell_type": "code",
   "execution_count": 18,
   "metadata": {},
   "outputs": [],
   "source": [
    "def linear_search(arr, element):\n",
    "    for pos, item in enumerate(arr):\n",
    "        if element == item:\n",
    "            print(f\"Element found at position: {pos + 1}\")\n",
    "            return True\n",
    "    print(\"Element not found\")\n",
    "    return False"
   ]
  },
  {
   "cell_type": "code",
   "execution_count": 19,
   "metadata": {},
   "outputs": [
    {
     "name": "stdout",
     "output_type": "stream",
     "text": [
      "Element not found\n"
     ]
    },
    {
     "data": {
      "text/plain": [
       "False"
      ]
     },
     "execution_count": 19,
     "metadata": {},
     "output_type": "execute_result"
    }
   ],
   "source": [
    "linear_search([1,2,3,4,5],0)"
   ]
  },
  {
   "cell_type": "code",
   "execution_count": 23,
   "metadata": {},
   "outputs": [],
   "source": [
    "def binary_search(arr, element):\n",
    "    left = 0\n",
    "    right = len(arr) - 1\n",
    "    while left <= right:\n",
    "        mid = (left + right) // 2\n",
    "        if arr[mid] == element:\n",
    "            print(f\"Element found at : {mid}\")\n",
    "            return True, mid\n",
    "        elif arr[mid] > element:\n",
    "            right  = mid - 1\n",
    "        else:\n",
    "            left  = mid + 1\n",
    "    print(\"Element not found\")\n",
    "    return False"
   ]
  },
  {
   "cell_type": "code",
   "execution_count": 24,
   "metadata": {},
   "outputs": [
    {
     "name": "stdout",
     "output_type": "stream",
     "text": [
      "Element found at : 4\n"
     ]
    },
    {
     "data": {
      "text/plain": [
       "(True, 4)"
      ]
     },
     "execution_count": 24,
     "metadata": {},
     "output_type": "execute_result"
    }
   ],
   "source": [
    "binary_search([1,2,3,4,5],5)"
   ]
  },
  {
   "cell_type": "code",
   "execution_count": 2,
   "metadata": {},
   "outputs": [
    {
     "name": "stdout",
     "output_type": "stream",
     "text": [
      "Element found at : 4\n"
     ]
    },
    {
     "data": {
      "text/plain": [
       "(True, 4)"
      ]
     },
     "execution_count": 2,
     "metadata": {},
     "output_type": "execute_result"
    }
   ],
   "source": [
    "def binary_search_recur(arr, element, left=0, right=None):\n",
    "    if right is None:\n",
    "        right = len(arr) - 1\n",
    "\n",
    "    if left > right:\n",
    "        print(\"Element not found\")\n",
    "        return False\n",
    "\n",
    "    mid = (left + right) // 2\n",
    "    if arr[mid] == element:\n",
    "        print(f\"Element found at : {mid}\")\n",
    "        return True, mid\n",
    "    elif arr[mid] > element:\n",
    "        return binary_search_recur(arr, element, left, mid - 1)\n",
    "    else:\n",
    "        return binary_search_recur(arr, element, mid + 1, right)\n",
    "\n",
    "\n",
    "arr = [1, 2, 3, 4, 5, 6, 8, 9]\n",
    "element = 5\n",
    "binary_search_recursive(arr, element)\n"
   ]
  },
  {
   "cell_type": "markdown",
   "metadata": {},
   "source": [
    "## : You have a list of 0s and 1s....find the count of 0s. the array is sorted.\n",
    "    - count_zeros([0,0,0,0,0,1,1,1,1,1,1]) -> 5"
   ]
  },
  {
   "cell_type": "code",
   "execution_count": 25,
   "metadata": {},
   "outputs": [
    {
     "name": "stdout",
     "output_type": "stream",
     "text": [
      "Element found at : 5\n",
      "No. of zeros : 5\n"
     ]
    }
   ],
   "source": [
    "input_array = [0,0,0,0,0,1,1,1,1,1,1]\n",
    "no_of_zeros = binary_search(input_array, 1)\n",
    "print(f\"No. of zeros : {no_of_zeros[1]}\")"
   ]
  },
  {
   "cell_type": "markdown",
   "metadata": {},
   "source": [
    "## : Count 1s in a sorted array of numbers\n",
    "    - count_one([0,0,0,0,0,1,1,1,1,1,1,1.1, 1.2, 2])"
   ]
  },
  {
   "cell_type": "code",
   "execution_count": 56,
   "metadata": {},
   "outputs": [
    {
     "name": "stdout",
     "output_type": "stream",
     "text": [
      "Element found at : 6\n",
      "Element found at : 11\n",
      "5\n"
     ]
    }
   ],
   "source": [
    "#approach 1 (assuming we know the next element is 1.1)\n",
    "input_array = [0,0,0,0,0,1,1,1,1,1,1,1.1, 1.2, 2]\n",
    "\n",
    "first_occurance_1 = binary_search(input_array, 1)\n",
    "first_occurance_1_1 = binary_search(input_array, 1.1)\n",
    "\n",
    "count_of_1 = first_occurance_1_1[1] - first_occurance_1[1]\n",
    "print(count_of_1)"
   ]
  },
  {
   "cell_type": "code",
   "execution_count": 57,
   "metadata": {},
   "outputs": [
    {
     "name": "stdout",
     "output_type": "stream",
     "text": [
      "Element found at : 6\n",
      "5\n"
     ]
    }
   ],
   "source": [
    "#approach 2 (assuming we don't know the next element is after 1)\n",
    "input_array = [0,0,0,0,0,1,1,1,1,1,1,1.1, 1.2, 2]\n",
    "first_occurance = binary_search(input_array, 1)\n",
    "\n",
    "if(first_occurance[0]):\n",
    "    last_occurance = first_occurance[1]\n",
    "    \n",
    "    while last_occurance + 1 < len(input_array) and input_array[last_occurance + 1] == 1:\n",
    "        last_occurance += 1\n",
    "\n",
    "count_of_1 = last_occurance - first_occurance[1] + 1\n",
    "print(count_of_1)"
   ]
  },
  {
   "cell_type": "markdown",
   "metadata": {},
   "source": [
    "## : Given a number represented as string convert it integer\n",
    "    - to_num(\"123\") -> 123"
   ]
  },
  {
   "cell_type": "code",
   "execution_count": 70,
   "metadata": {},
   "outputs": [
    {
     "name": "stdout",
     "output_type": "stream",
     "text": [
      "[1, 2, 3, 7, 4]\n",
      "[10000, 1000, 100, 10, 1]\n",
      "[10000, 2000, 300, 70, 4]\n"
     ]
    },
    {
     "data": {
      "text/plain": [
       "12374"
      ]
     },
     "execution_count": 70,
     "metadata": {},
     "output_type": "execute_result"
    }
   ],
   "source": [
    "# approach 1 - non recursive\n",
    "def to_num(string):\n",
    "    int_arr = [ord(x) - ord(\"0\") for x in string]\n",
    "    print(int_arr)\n",
    "    \n",
    "    base_array = [10**(len(string) - 1 - i) for i in range(len(string))]\n",
    "    print(base_array)\n",
    "    \n",
    "    value_array = [ele_list1 * ele_list2 for ele_list1, ele_list2 in zip(int_arr, base_array)]\n",
    "    print(value_array)\n",
    "    \n",
    "    return sum(value_array)\n",
    "to_num(\"12374\")\n"
   ]
  },
  {
   "cell_type": "code",
   "execution_count": 73,
   "metadata": {},
   "outputs": [
    {
     "name": "stdout",
     "output_type": "stream",
     "text": [
      "12374\n"
     ]
    }
   ],
   "source": [
    "# approach 1 - removing intermidiate arrays\n",
    "\n",
    "def to_num_2(string):\n",
    "    total = 0\n",
    "    length = len(string)\n",
    "    for i, number in enumerate(string):\n",
    "        digit = ord(number) - ord(\"0\")\n",
    "        total += digit * 10**(length - 1 - i)\n",
    "    return total\n",
    "\n",
    "result = to_num_2(\"12374\")\n",
    "print(result)"
   ]
  },
  {
   "cell_type": "code",
   "execution_count": 74,
   "metadata": {},
   "outputs": [
    {
     "name": "stdout",
     "output_type": "stream",
     "text": [
      "12374\n",
      "1237\n",
      "123\n",
      "12\n"
     ]
    },
    {
     "data": {
      "text/plain": [
       "12374"
      ]
     },
     "execution_count": 74,
     "metadata": {},
     "output_type": "execute_result"
    }
   ],
   "source": [
    "# approach 2 - recursive ( Similar to what is told in class)\n",
    "\n",
    "def to_num_recur(string):\n",
    "    if len(string) == 0:\n",
    "        return 0\n",
    "    elif len(string) == 1:\n",
    "        return ord(string) - ord(\"0\")\n",
    "    else:\n",
    "        print(string)\n",
    "        return to_num_recur(string[:-1]) * 10 + to_num_recur(string[-1])\n",
    "to_num_recur(\"12374\")"
   ]
  },
  {
   "cell_type": "markdown",
   "metadata": {},
   "source": [
    "## Qn: You have two lists of numbers: \n",
    "  - First list: 100 numbes. not sorted m\n",
    "  - Second List: Millions of numbers. not sorted n\n",
    "  - Find all numbers which are common in these two lists."
   ]
  },
  {
   "cell_type": "code",
   "execution_count": 18,
   "metadata": {},
   "outputs": [],
   "source": [
    "# sort the bigger list i.e. second list --> merge sort\n",
    "def merge_sort(arr):\n",
    "    if len(arr) > 1:\n",
    "        mid = len(arr) // 2\n",
    "        left_arr = arr[:mid]\n",
    "        right_arr = arr[mid:]\n",
    "    \n",
    "        merge_sort(left_arr)\n",
    "        merge_sort(right_arr)\n",
    "    \n",
    "        #merge\n",
    "        i = 0\n",
    "        j = 0\n",
    "        k = 0\n",
    "\n",
    "        while (i < len(left_arr) and j < len(right_arr)):\n",
    "            if (left_arr[i] < right_arr[j]):\n",
    "                arr[k] = left_arr[i]\n",
    "                i += 1\n",
    "            else:\n",
    "                arr[k] = right_arr[j]\n",
    "                j += 1\n",
    "            k += 1\n",
    "\n",
    "        while (i < len(left_arr)):\n",
    "            arr[k] = left_arr[i]\n",
    "            i += 1\n",
    "            k += 1\n",
    "\n",
    "        while (j < len(right_arr)):\n",
    "            arr[k] = right_arr[j]\n",
    "            j += 1\n",
    "            k += 1\n",
    "    return arr\n",
    "    \n",
    "\n",
    "def binary_search_recur(arr, element, left=0, right=None):\n",
    "    if right is None:\n",
    "        right = len(arr) - 1\n",
    "\n",
    "    if left > right:\n",
    "        # print(\"Element not found\")\n",
    "        return False\n",
    "\n",
    "    mid = (left + right) // 2\n",
    "    if arr[mid] == element:\n",
    "        # print(f\"Element found at : {mid}\")\n",
    "        return True\n",
    "    elif arr[mid] > element:\n",
    "        return binary_search_recur(arr, element, left, mid - 1)\n",
    "    else:\n",
    "        return binary_search_recur(arr, element, mid + 1, right)\n",
    "    \n",
    "def common_in_list(list1, list2):\n",
    "    common = []\n",
    "    \n",
    "    for i in range(len(list1)):\n",
    "        if(binary_search_recur(list2, list1[i])):\n",
    "            common.append(list1[i])\n",
    "    return common"
   ]
  },
  {
   "cell_type": "code",
   "execution_count": 23,
   "metadata": {},
   "outputs": [
    {
     "data": {
      "text/plain": [
       "[]"
      ]
     },
     "execution_count": 23,
     "metadata": {},
     "output_type": "execute_result"
    }
   ],
   "source": [
    "list1 = []\n",
    "list2 = [0]* 1000\n",
    "\n",
    "common_in_list(list1, merge_sort(list2))"
   ]
  },
  {
   "cell_type": "code",
   "execution_count": 9,
   "metadata": {},
   "outputs": [
    {
     "name": "stdout",
     "output_type": "stream",
     "text": [
      "3\n"
     ]
    }
   ],
   "source": [
    "# Ques 2:\n",
    "\n",
    "def find_last_zero(L):\n",
    "    left = 0\n",
    "    right = len(L) - 1\n",
    "    \n",
    "    while left <= right:\n",
    "        mid = (left + right) // 2\n",
    "        if L[mid] != 0:\n",
    "            right = mid - 1\n",
    "        else:\n",
    "            if mid == (len(L) - 1):\n",
    "                return mid\n",
    "            else:\n",
    "                if L[mid + 1] != 0:\n",
    "                    return mid\n",
    "                else:\n",
    "                    left = mid + 1\n",
    "\n",
    "\n",
    "input_array = [0,0,0,0,1,1,1,1,1,1]\n",
    "no_of_zeros = find_last_zero(input_array)\n",
    "print(no_of_zeros)"
   ]
  },
  {
   "cell_type": "code",
   "execution_count": 11,
   "metadata": {},
   "outputs": [],
   "source": [
    "def tester(test_cases):\n",
    "    for test_case in test_cases:\n",
    "        arr, expected = test_case\n",
    "        actual = find_last_zero(arr)\n",
    "        print(\"Testing: \", arr)\n",
    "        if actual == expected:\n",
    "            print(\"\\tSuccess! \")\n",
    "        else:\n",
    "            print(f\"\\tFailed!. Expected {expected} but got {actual}\")"
   ]
  },
  {
   "cell_type": "code",
   "execution_count": 8,
   "metadata": {},
   "outputs": [],
   "source": [
    "test_cases = [\n",
    "    ([0], 0),\n",
    "    ([0, 1, 1], 1),\n",
    "    ([0, 0, 1], 2),    \n",
    "    ([1, 1, 1], 0),\n",
    "    ([0, 0, 0],3),\n",
    "    ([1], 0),\n",
    "    ([], 0),\n",
    "    ([0]*100 + [1]*200, 100)\n",
    "]"
   ]
  },
  {
   "cell_type": "code",
   "execution_count": 19,
   "metadata": {},
   "outputs": [
    {
     "name": "stdout",
     "output_type": "stream",
     "text": [
      "Testing:  [0]\n",
      "\tSuccess! \n",
      "Testing:  [0, 1, 1]\n",
      "\tFailed!. Expected 1 but got 0\n",
      "Testing:  [0, 0, 1]\n",
      "\tFailed!. Expected 2 but got 1\n",
      "Testing:  [1, 1, 1]\n",
      "\tFailed!. Expected 0 but got None\n",
      "Testing:  [0, 0, 0]\n",
      "\tFailed!. Expected 3 but got 2\n",
      "Testing:  [1]\n",
      "\tFailed!. Expected 0 but got None\n",
      "Testing:  []\n",
      "\tFailed!. Expected 0 but got None\n",
      "Testing:  [0, 0, 0, 0, 0, 0, 0, 0, 0, 0, 0, 0, 0, 0, 0, 0, 0, 0, 0, 0, 0, 0, 0, 0, 0, 0, 0, 0, 0, 0, 0, 0, 0, 0, 0, 0, 0, 0, 0, 0, 0, 0, 0, 0, 0, 0, 0, 0, 0, 0, 0, 0, 0, 0, 0, 0, 0, 0, 0, 0, 0, 0, 0, 0, 0, 0, 0, 0, 0, 0, 0, 0, 0, 0, 0, 0, 0, 0, 0, 0, 0, 0, 0, 0, 0, 0, 0, 0, 0, 0, 0, 0, 0, 0, 0, 0, 0, 0, 0, 0, 1, 1, 1, 1, 1, 1, 1, 1, 1, 1, 1, 1, 1, 1, 1, 1, 1, 1, 1, 1, 1, 1, 1, 1, 1, 1, 1, 1, 1, 1, 1, 1, 1, 1, 1, 1, 1, 1, 1, 1, 1, 1, 1, 1, 1, 1, 1, 1, 1, 1, 1, 1, 1, 1, 1, 1, 1, 1, 1, 1, 1, 1, 1, 1, 1, 1, 1, 1, 1, 1, 1, 1, 1, 1, 1, 1, 1, 1, 1, 1, 1, 1, 1, 1, 1, 1, 1, 1, 1, 1, 1, 1, 1, 1, 1, 1, 1, 1, 1, 1, 1, 1, 1, 1, 1, 1, 1, 1, 1, 1, 1, 1, 1, 1, 1, 1, 1, 1, 1, 1, 1, 1, 1, 1, 1, 1, 1, 1, 1, 1, 1, 1, 1, 1, 1, 1, 1, 1, 1, 1, 1, 1, 1, 1, 1, 1, 1, 1, 1, 1, 1, 1, 1, 1, 1, 1, 1, 1, 1, 1, 1, 1, 1, 1, 1, 1, 1, 1, 1, 1, 1, 1, 1, 1, 1, 1, 1, 1, 1, 1, 1, 1, 1, 1, 1, 1, 1, 1, 1, 1, 1, 1, 1, 1, 1, 1, 1, 1, 1, 1]\n",
      "\tFailed!. Expected 100 but got 99\n"
     ]
    }
   ],
   "source": [
    "tester(test_cases)"
   ]
  },
  {
   "cell_type": "code",
   "execution_count": 17,
   "metadata": {},
   "outputs": [],
   "source": [
    "def countofzero(arr):\n",
    "    left, right = 0, len(arr) - 1\n",
    "    if len(arr)==0:\n",
    "        return 0\n",
    "    while left <= right:\n",
    "        mid = (left + right) // 2\n",
    "        if arr[mid] == 0:\n",
    "            loc = mid \n",
    "            left = mid + 1 \n",
    "        else:\n",
    "            right = mid - 1 \n",
    "            \n",
    "    return loc + 1"
   ]
  },
  {
   "cell_type": "code",
   "execution_count": 5,
   "metadata": {},
   "outputs": [
    {
     "data": {
      "text/plain": [
       "4"
      ]
     },
     "execution_count": 5,
     "metadata": {},
     "output_type": "execute_result"
    }
   ],
   "source": [
    "# Q: You have increasing and then decreasing numbers. Find the max value.\n",
    "#     [1,2,3,4,3,2.5, 1.5, -2] -> 4\n",
    "\n",
    "input_array = [1,2,3,4,3,2.5, 1.5, -2]\n",
    "def find_peak(arr):\n",
    "    left = 0\n",
    "    right = len(arr)\n",
    "    \n",
    "    while (left < right):\n",
    "        mid = (left + right) // 2\n",
    "        \n",
    "        if(arr[mid] < arr[mid + 1]):\n",
    "            left = mid + 1\n",
    "        else:\n",
    "            right = mid\n",
    "    \n",
    "    return arr[left]\n",
    "find_peak(input_array)"
   ]
  },
  {
   "cell_type": "code",
   "execution_count": 6,
   "metadata": {},
   "outputs": [
    {
     "data": {
      "text/plain": [
       "-2"
      ]
     },
     "execution_count": 6,
     "metadata": {},
     "output_type": "execute_result"
    }
   ],
   "source": [
    "\n",
    "# Q: You have decreasing and then increasing numbers. Find the minimum value.\n",
    "#     [100, 10, 5, 0, -2, 1, 3, 5, 1000, 3000] -> -2\n",
    "\n",
    "input_array = [100, 10, 5, 0, -2, 1, 3, 5, 1000, 3000]\n",
    "def find_dip(arr):\n",
    "    left = 0\n",
    "    right = len(arr)\n",
    "    \n",
    "    while (left < right):\n",
    "        mid = (left + right) // 2\n",
    "        \n",
    "        if(arr[mid] > arr[mid + 1]):\n",
    "            left = mid + 1\n",
    "        else:\n",
    "            right = mid\n",
    "    \n",
    "    return arr[left]\n",
    "find_dip(input_array)"
   ]
  },
  {
   "cell_type": "code",
   "execution_count": null,
   "metadata": {},
   "outputs": [],
   "source": []
  }
 ],
 "metadata": {
  "kernelspec": {
   "display_name": "Python 3",
   "language": "python",
   "name": "python3"
  },
  "language_info": {
   "codemirror_mode": {
    "name": "ipython",
    "version": 3
   },
   "file_extension": ".py",
   "mimetype": "text/x-python",
   "name": "python",
   "nbconvert_exporter": "python",
   "pygments_lexer": "ipython3",
   "version": "3.6.8"
  },
  "toc": {
   "base_numbering": 1,
   "nav_menu": {},
   "number_sections": true,
   "sideBar": true,
   "skip_h1_title": false,
   "title_cell": "Table of Contents",
   "title_sidebar": "Contents",
   "toc_cell": false,
   "toc_position": {},
   "toc_section_display": true,
   "toc_window_display": false
  }
 },
 "nbformat": 4,
 "nbformat_minor": 2
}
