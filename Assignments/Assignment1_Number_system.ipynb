{
 "cells": [
  {
   "cell_type": "markdown",
   "metadata": {},
   "source": [
    "# Create a base 14 numbering system\n",
    "\n",
    "Objectives:\n",
    "\n",
    "- Define a base 14 numbering system\n",
    "- List down two digit numbers\n",
    "- Demo : Single digit addition and Subtraction\n",
    "- Demo : Double digit addition and Subtraction\n",
    "- Demo : Write table BxB\n",
    "- Demo : multiplication for single digit\n",
    "- Demo : multiplication for double digit\n",
    "- Translate : Base 10 to Base 14 (and vice versa)"
   ]
  },
  {
   "cell_type": "raw",
   "metadata": {},
   "source": [
    "In base 14, each digit can take any of 14 values:\n",
    "0, 1, 2, 3, 4, 5, 6, 7, 8, 9, A, B, C, D\n",
    "\n",
    "(Where A=10, B=11, C=12, D=13 in decimal)"
   ]
  },
  {
   "cell_type": "raw",
   "metadata": {},
   "source": [
    "List down two digit numbers\n",
    "\n",
    "Leading Digit | Two-Digit Numbers\n",
    "1 | 10, 11, 12, 13, 14, 15, 16, 17, 18, 19, 1A, 1B, 1C, 1D\n",
    "2 | 20, 21, 22, 23, 24, 25, 26, 27, 28, 29, 2A, 2B, 2C, 2D\n",
    "3 | 30, 31, 32, 33, 34, 35, 36, 37, 38, 39, 3A, 3B, 3C, 3D\n",
    "4 | 40, 41, 42, 43, 44, 45, 46, 47, 48, 49, 4A, 4B, 4C, 4D\n",
    "5 | 50, 51, 52, 53, 54, 55, 56, 57, 58, 59, 5A, 5B, 5C, 5D\n",
    "6 | 60, 61, 62, 63, 64, 65, 66, 67, 68, 69, 6A, 6B, 6C, 6D\n",
    "7 | 70, 71, 72, 73, 74, 75, 76, 77, 78, 79, 7A, 7B, 7C, 7D\n",
    "8 | 80, 81, 82, 83, 84, 85, 86, 87, 88, 89, 8A, 8B, 8C, 8D\n",
    "9 | 90, 91, 92, 93, 94, 95, 96, 97, 98, 99, 9A, 9B, 9C, 9D\n",
    "A | A0, A1, A2, A3, A4, A5, A6, A7, A8, A9, AA, AB, AC, AD\n",
    "B | B0, B1, B2, B3, B4, B5, B6, B7, B8, B9, BA, BB, BC, BD\n",
    "C | C0, C1, C2, C3, C4, C5, C6, C7, C8, C9, CA, CB, CC, CD\n",
    "D | D0, D1, D2, D3, D4, D5, D6, D7, D8, D9, DA, DB, DC, DD"
   ]
  },
  {
   "cell_type": "raw",
   "metadata": {},
   "source": [
    "Single digit addition and Subtraction\n",
    "\n",
    "9 + 3 = C  \n",
    "A + 5 = F (but F doesn’t exist, so A+5=13+5=18 → 18 mod 14 = 4 with carry 1 → result: 11*4)\n",
    "D + 1 = (13 + 1 = 14) → 10 (carry over)"
   ]
  },
  {
   "cell_type": "raw",
   "metadata": {},
   "source": [
    "C - 5 = 12 - 5 = 7  \n",
    "B - 9 = 11 - 9 = 2  \n",
    "2 - D = borrow → 2 + 14 - 13 = 3 (with borrow)"
   ]
  },
  {
   "cell_type": "raw",
   "metadata": {},
   "source": [
    "Demo: Double Digit Addition and Subtraction\n",
    "\n",
    "1D (1×14 + 13 = 27)  \n",
    "+2C (2×14 + 12 = 40)  \n",
    "→ 67 in decimal = 4B in base 14\n",
    "\n",
    "So: 1D + 2C = 4B"
   ]
  },
  {
   "cell_type": "raw",
   "metadata": {},
   "source": [
    "C3 = 12×14 + 3 = 171  \n",
    "A1 = 10×14 + 1 = 141  \n",
    "171 - 141 = 30 → 30 in base 14 = 22\n",
    "\n",
    "C3 - A1 = 22"
   ]
  },
  {
   "cell_type": "raw",
   "metadata": {},
   "source": [
    "Write table BxB\n",
    "\n",
    "×\t0\t1\t2\t3\t4\t5\t6\t7\t8\t9\tA\tB\n",
    "0\t0\t0\t0\t0\t0\t0\t0\t0\t0\t0\t0\t0\n",
    "1\t0\t1\t2\t3\t4\t5\t6\t7\t8\t9\tA\tB\n",
    "2\t0\t2\t4\t6\t8\tA\tC\t10\t12\t14\t16\t18\n",
    "3\t0\t3\t6\t9\tC\t11\t14\t17\t1A\t1D\t20\t23\n",
    "4\t0\t4\t8\tC\t10\t14\t18\t1C\t20\t24\t28\t2C\n",
    "5\t0\t5\tA\t11\t14\t19\t1E\t23\t28\t2D\t32\t37\n",
    "6\t0\t6\tC\t14\t18\t1E\t24\t2A\t30\t36\t3C\t42\n",
    "7\t0\t7\t10\t17\t1C\t23\t2A\t31\t38\t3F\t46\t4D\n",
    "8\t0\t8\t12\t1A\t20\t28\t30\t38\t40\t48\t50\t58\n",
    "9\t0\t9\t14\t1D\t24\t2D\t36\t3F\t48\t51\t5A\t63\n",
    "A\t0\tA\t16\t20\t28\t32\t3C\t46\t50\t5A\t64\t6E\n",
    "B\t0\tB\t18\t23\t2C\t37\t42\t4D\t58\t63\t6E\t79"
   ]
  },
  {
   "cell_type": "raw",
   "metadata": {},
   "source": [
    "Multiplication for single digit\n",
    "\n",
    "A × 6 = 10 (A=10, so 10×6=60) → 60 in base 14 = 44  \n",
    "So, A × 6 = 44\n",
    "\n",
    "B × 9 = 11×9 = 99 → 99 in base 14 = 70 + 1 = 71  \n",
    "→ 99 ÷ 14 = 7 remainder 1 → 71"
   ]
  },
  {
   "cell_type": "raw",
   "metadata": {},
   "source": [
    "Multiplication for double digit\n",
    "\n",
    "2C = 40, 1D = 27  \n",
    "40 × 27 = 1080 → Convert to base 14\n",
    "\n",
    "1080 ÷ 14 = 77 rem 8  \n",
    "77 ÷ 14 = 5 rem 7  \n",
    "5 ÷ 14 = 0 rem 5  \n",
    "\n",
    "So: 5 7 8 → 578 (base 14)  \n",
    "Result: 2C × 1D = 578"
   ]
  },
  {
   "cell_type": "raw",
   "metadata": {},
   "source": [
    "Decimal to Base 14 (Example: 145)\n",
    "145 ÷ 14 = 10 rem 5\n",
    "10 ÷ 14 = 0 rem 10 (A)\n",
    "\n",
    "→ So: 145 = A5 (base 14)\n",
    "\n",
    "Base 14 to Decimal (Example: C7)\n",
    "C = 12, 7 = 7\n",
    "C7 = 12×14 + 7 = 175 (decimal)"
   ]
  },
  {
   "cell_type": "code",
   "execution_count": null,
   "metadata": {},
   "outputs": [],
   "source": []
  }
 ],
 "metadata": {
  "kernelspec": {
   "display_name": "Python 3",
   "language": "python",
   "name": "python3"
  },
  "language_info": {
   "codemirror_mode": {
    "name": "ipython",
    "version": 3
   },
   "file_extension": ".py",
   "mimetype": "text/x-python",
   "name": "python",
   "nbconvert_exporter": "python",
   "pygments_lexer": "ipython3",
   "version": "3.6.8"
  },
  "toc": {
   "base_numbering": 1,
   "nav_menu": {},
   "number_sections": true,
   "sideBar": true,
   "skip_h1_title": false,
   "title_cell": "Table of Contents",
   "title_sidebar": "Contents",
   "toc_cell": false,
   "toc_position": {},
   "toc_section_display": true,
   "toc_window_display": false
  }
 },
 "nbformat": 4,
 "nbformat_minor": 2
}
